{
  "nbformat": 4,
  "nbformat_minor": 0,
  "metadata": {
    "accelerator": "GPU",
    "colab": {
      "name": "All_conditions.ipynb",
      "provenance": [],
      "include_colab_link": true
    },
    "kernelspec": {
      "display_name": "Python 3",
      "language": "python",
      "name": "python3"
    },
    "language_info": {
      "codemirror_mode": {
        "name": "ipython",
        "version": 3
      },
      "file_extension": ".py",
      "mimetype": "text/x-python",
      "name": "python",
      "nbconvert_exporter": "python",
      "pygments_lexer": "ipython3",
      "version": "3.7.6"
    }
  },
  "cells": [
    {
      "cell_type": "markdown",
      "metadata": {
        "id": "view-in-github",
        "colab_type": "text"
      },
      "source": [
        "<a href=\"https://colab.research.google.com/github/SurajK7/ChestAI/blob/master/All_conditions.ipynb\" target=\"_parent\"><img src=\"https://colab.research.google.com/assets/colab-badge.svg\" alt=\"Open In Colab\"/></a>"
      ]
    },
    {
      "cell_type": "code",
      "metadata": {
        "colab_type": "code",
        "id": "r-6Hs2X8Aiqh",
        "colab": {}
      },
      "source": [
        "import warnings\n",
        "warnings.filterwarnings('ignore')"
      ],
      "execution_count": 0,
      "outputs": []
    },
    {
      "cell_type": "code",
      "metadata": {
        "colab_type": "code",
        "id": "VYZrNaJpbwJ7",
        "colab": {}
      },
      "source": [
        "%reload_ext autoreload\n",
        "%autoreload 2"
      ],
      "execution_count": 0,
      "outputs": []
    },
    {
      "cell_type": "code",
      "metadata": {
        "colab_type": "code",
        "id": "0BlYyaSK2iE8",
        "colab": {}
      },
      "source": [
        "from fastai.vision import *\n",
        "from torchvision.models import *\n",
        "from utils import *\n",
        "import pandas as pd\n",
        "from pathlib import Path"
      ],
      "execution_count": 0,
      "outputs": []
    },
    {
      "cell_type": "code",
      "metadata": {
        "colab_type": "code",
        "id": "6Jj_pp0SXyuK",
        "colab": {}
      },
      "source": [
        "!wget --load-cookies /tmp/cookies.txt \"https://docs.google.com/uc?export=download&confirm=$(wget --quiet --save-cookies /tmp/cookies.txt --keep-session-cookies --no-check-certificate 'https://docs.google.com/uc?export=download&id=1Yfgf4D7P224j8Z4CJ6-sq0sFLzqlRhxE' -O- | sed -rn 's/.*confirm=([0-9A-Za-z_]+).*/\\1\\n/p')&id=1Yfgf4D7P224j8Z4CJ6-sq0sFLzqlRhxE\" -O CheXpert-v1.0-small.zip && rm -rf /tmp/cookies.txt"
      ],
      "execution_count": 0,
      "outputs": []
    },
    {
      "cell_type": "code",
      "metadata": {
        "colab_type": "code",
        "id": "OXDtBE_2eOgy",
        "colab": {}
      },
      "source": [
        "!unzip -qq CheXpert-v1.0-small.zip\n",
        "!rm CheXpert-v1.0-small.zip"
      ],
      "execution_count": 0,
      "outputs": []
    },
    {
      "cell_type": "code",
      "metadata": {
        "colab_type": "code",
        "id": "jbknFTDD01Bf",
        "colab": {}
      },
      "source": [
        "full_train_df, full_valid_df = create_dfs()\n",
        "full_df = pd.concat([full_train_df, full_valid_df])"
      ],
      "execution_count": 0,
      "outputs": []
    },
    {
      "cell_type": "code",
      "metadata": {
        "colab_type": "code",
        "id": "L9-s6TZnaPXw",
        "colab": {}
      },
      "source": [
        "u_one = ['Atelectasis',\n",
        "          'Edema',\n",
        "          'No Finding',\n",
        "          'Enlarged Cardiomediastinum',\n",
        "          'Lung Opacity',\n",
        "          'Lung Lesion',\n",
        "          'Pneumonia',\n",
        "          'Pneumothorax',\n",
        "          'Pleural Other',\n",
        "          'Fracture',\n",
        "          'Support Devices']"
      ],
      "execution_count": 0,
      "outputs": []
    },
    {
      "cell_type": "code",
      "metadata": {
        "colab_type": "code",
        "id": "76R3wqUrfPSO",
        "colab": {}
      },
      "source": [
        "# function to create class labels\n",
        "def feature_string(row):\n",
        "    feature_list = []\n",
        "    for feature in u_one:\n",
        "        if row[feature] in [-1,1]:\n",
        "            feature_list.append(feature)\n",
        "            \n",
        "    for feature in u_zero_features:\n",
        "        if row[feature] == 1:\n",
        "            feature_list.append(feature)\n",
        "            \n",
        "    return ';'.join(feature_list)"
      ],
      "execution_count": 0,
      "outputs": []
    },
    {
      "cell_type": "code",
      "metadata": {
        "colab_type": "code",
        "id": "jCahHsSugKV8",
        "colab": {}
      },
      "source": [
        "#adding class labels\n",
        "full_df['feature_string'] = full_df.apply(feature_string,axis = 1).fillna('')"
      ],
      "execution_count": 0,
      "outputs": []
    },
    {
      "cell_type": "code",
      "metadata": {
        "colab_type": "code",
        "id": "1Qn2yiDmiNNo",
        "colab": {}
      },
      "source": [
        "data = create_data(full_df, size=320, bs=8)"
      ],
      "execution_count": 0,
      "outputs": []
    },
    {
      "cell_type": "code",
      "metadata": {
        "colab_type": "code",
        "id": "CtrAVASS1TeU",
        "colab": {}
      },
      "source": [
        "learn = cnn_learner(data, models.densenet121, pretrained=True)"
      ],
      "execution_count": 0,
      "outputs": []
    },
    {
      "cell_type": "code",
      "metadata": {
        "colab_type": "code",
        "id": "mtmraB7v1We4",
        "colab": {}
      },
      "source": [
        "lr_find(learn)\n",
        "learn.recorder.plot(suggestion=True)"
      ],
      "execution_count": 0,
      "outputs": []
    },
    {
      "cell_type": "code",
      "metadata": {
        "colab_type": "code",
        "id": "s_Qpgs3Zt0Ro",
        "colab": {}
      },
      "source": [
        "lr = 2e-2"
      ],
      "execution_count": 0,
      "outputs": []
    },
    {
      "cell_type": "code",
      "metadata": {
        "colab_type": "code",
        "id": "JaVVGXids99R",
        "colab": {}
      },
      "source": [
        "learn.fit_one_cycle(8, slice(lr), callbacks=[callbacks.SaveModelCallback(learn, every='epoch', name='all')])"
      ],
      "execution_count": 0,
      "outputs": []
    },
    {
      "cell_type": "code",
      "metadata": {
        "colab_type": "code",
        "id": "O-zzkWEk_kN6",
        "colab": {}
      },
      "source": [
        "!mkdir /content/drive/My\\ Drive/all "
      ],
      "execution_count": 0,
      "outputs": []
    },
    {
      "cell_type": "code",
      "metadata": {
        "colab_type": "code",
        "id": "iJuFwAAI_I-A",
        "colab": {}
      },
      "source": [
        "!cp -avr ./models /content/drive/My\\ Drive/all"
      ],
      "execution_count": 0,
      "outputs": []
    },
    {
      "cell_type": "code",
      "metadata": {
        "colab_type": "code",
        "id": "pZSMqHZqqKHO",
        "colab": {},
        "outputId": "8d282d36-8233-43f5-b7e5-77bc75f0dc2a"
      },
      "source": [
        "print_verbose_val_score(learn, full_valid_df)"
      ],
      "execution_count": 0,
      "outputs": [
        {
          "output_type": "stream",
          "text": [
            "234 234\n",
            "{'Atelectasis': 0.8103466666666667, 'Cardiomegaly': 0.7787200361827228, 'Consolidation': 0.8876488095238095, 'Edema': 0.9266124171187462, 'Enlarged Cardiomediastinum': 0.557593984962406, 'Fracture': None, 'Lung Lesion': 0.20100502512562812, 'Lung Opacity': 0.8888546798029556, 'No Finding': 0.9047303271441203, 'Pleural Effusion': 0.8930376838235294, 'Pleural Other': 0.8894472361809045, 'Pneumonia': 0.7408854166666667, 'Pneumothorax': 0.7061855670103093, 'Support Devices': 0.8536853685368536}\n",
            "all_1\n"
          ],
          "name": "stdout"
        },
        {
          "output_type": "display_data",
          "data": {
            "text/html": [
              ""
            ],
            "text/plain": [
              "<IPython.core.display.HTML object>"
            ]
          },
          "metadata": {
            "tags": []
          }
        },
        {
          "output_type": "stream",
          "text": [
            "234 234\n",
            "{'Atelectasis': 0.7847466666666666, 'Cardiomegaly': 0.8250791497060153, 'Consolidation': 0.8751860119047619, 'Edema': 0.9159132007233273, 'Enlarged Cardiomediastinum': 0.29203007518796986, 'Fracture': None, 'Lung Lesion': 0.5778894472361809, 'Lung Opacity': 0.8936781609195402, 'No Finding': 0.8974358974358974, 'Pleural Effusion': 0.8997012867647058, 'Pleural Other': 0.9346733668341709, 'Pneumonia': 0.8033854166666667, 'Pneumothorax': 0.6778350515463918, 'Support Devices': 0.8942894289428942}\n",
            "all_2\n"
          ],
          "name": "stdout"
        },
        {
          "output_type": "display_data",
          "data": {
            "text/html": [
              ""
            ],
            "text/plain": [
              "<IPython.core.display.HTML object>"
            ]
          },
          "metadata": {
            "tags": []
          }
        },
        {
          "output_type": "stream",
          "text": [
            "234 234\n",
            "{'Atelectasis': 0.7811199999999999, 'Cardiomegaly': 0.7584803256445047, 'Consolidation': 0.7615327380952381, 'Edema': 0.9190777576853526, 'Enlarged Cardiomediastinum': 0.5325313283208021, 'Fracture': None, 'Lung Lesion': 0.24623115577889443, 'Lung Opacity': 0.8910098522167489, 'No Finding': 0.8903625110521662, 'Pleural Effusion': 0.9046415441176471, 'Pleural Other': 0.9095477386934674, 'Pneumonia': 0.6614583333333333, 'Pneumothorax': 0.7800687285223368, 'Support Devices': 0.8813881388138813}\n",
            "all_3\n"
          ],
          "name": "stdout"
        },
        {
          "output_type": "display_data",
          "data": {
            "text/html": [
              ""
            ],
            "text/plain": [
              "<IPython.core.display.HTML object>"
            ]
          },
          "metadata": {
            "tags": []
          }
        },
        {
          "output_type": "stream",
          "text": [
            "234 234\n",
            "{'Atelectasis': 0.8171733333333333, 'Cardiomegaly': 0.8139981908638626, 'Consolidation': 0.87890625, 'Edema': 0.9165159734779987, 'Enlarged Cardiomediastinum': 0.6629573934837093, 'Fracture': None, 'Lung Lesion': 0.5226130653266332, 'Lung Opacity': 0.8983990147783252, 'No Finding': 0.8726790450928382, 'Pleural Effusion': 0.9191176470588235, 'Pleural Other': 0.8844221105527639, 'Pneumonia': 0.849609375, 'Pneumothorax': 0.834192439862543, 'Support Devices': 0.9211921192119212}\n",
            "all_4\n"
          ],
          "name": "stdout"
        },
        {
          "output_type": "display_data",
          "data": {
            "text/html": [
              ""
            ],
            "text/plain": [
              "<IPython.core.display.HTML object>"
            ]
          },
          "metadata": {
            "tags": []
          }
        },
        {
          "output_type": "stream",
          "text": [
            "234 234\n",
            "{'Atelectasis': 0.8005333333333333, 'Cardiomegaly': 0.8034825870646766, 'Consolidation': 0.8491443452380953, 'Edema': 0.9371609403254973, 'Enlarged Cardiomediastinum': 0.5571929824561404, 'Fracture': None, 'Lung Lesion': 0.4522613065326633, 'Lung Opacity': 0.9049671592775042, 'No Finding': 0.9153404067197171, 'Pleural Effusion': 0.9141773897058824, 'Pleural Other': 0.9296482412060302, 'Pneumonia': 0.7018229166666667, 'Pneumothorax': 0.8651202749140894, 'Support Devices': 0.9206920692069207}\n",
            "all_5\n"
          ],
          "name": "stdout"
        },
        {
          "output_type": "display_data",
          "data": {
            "text/html": [
              ""
            ],
            "text/plain": [
              "<IPython.core.display.HTML object>"
            ]
          },
          "metadata": {
            "tags": []
          }
        },
        {
          "output_type": "stream",
          "text": [
            "234 234\n",
            "{'Atelectasis': 0.7905066666666666, 'Cardiomegaly': 0.7855042966983266, 'Consolidation': 0.9131324404761905, 'Edema': 0.9299276672694394, 'Enlarged Cardiomediastinum': 0.5667167919799498, 'Fracture': None, 'Lung Lesion': 0.3316582914572864, 'Lung Opacity': 0.91564039408867, 'No Finding': 0.8925729442970822, 'Pleural Effusion': 0.9231387867647058, 'Pleural Other': 0.8994974874371859, 'Pneumonia': 0.8177083333333333, 'Pneumothorax': 0.8350515463917525, 'Support Devices': 0.9328932893289329}\n",
            "all_6\n"
          ],
          "name": "stdout"
        },
        {
          "output_type": "display_data",
          "data": {
            "text/html": [
              ""
            ],
            "text/plain": [
              "<IPython.core.display.HTML object>"
            ]
          },
          "metadata": {
            "tags": []
          }
        },
        {
          "output_type": "stream",
          "text": [
            "234 234\n",
            "{'Atelectasis': 0.8001066666666666, 'Cardiomegaly': 0.805291723202171, 'Consolidation': 0.9136904761904762, 'Edema': 0.923297166968053, 'Enlarged Cardiomediastinum': 0.44150375939849623, 'Fracture': None, 'Lung Lesion': 0.3517587939698492, 'Lung Opacity': 0.9174876847290641, 'No Finding': 0.9040671971706454, 'Pleural Effusion': 0.9287683823529412, 'Pleural Other': 0.9045226130653267, 'Pneumonia': 0.7747395833333334, 'Pneumothorax': 0.8685567010309279, 'Support Devices': 0.9335933593359336}\n",
            "all_7\n"
          ],
          "name": "stdout"
        },
        {
          "output_type": "display_data",
          "data": {
            "text/html": [
              ""
            ],
            "text/plain": [
              "<IPython.core.display.HTML object>"
            ]
          },
          "metadata": {
            "tags": []
          }
        },
        {
          "output_type": "stream",
          "text": [
            "234 234\n",
            "{'Atelectasis': 0.8205866666666667, 'Cardiomegaly': 0.8075531433740388, 'Consolidation': 0.9175967261904762, 'Edema': 0.9261603375527426, 'Enlarged Cardiomediastinum': 0.48892230576441104, 'Fracture': None, 'Lung Lesion': 0.3869346733668342, 'Lung Opacity': 0.9214901477832513, 'No Finding': 0.9047303271441203, 'Pleural Effusion': 0.9273897058823529, 'Pleural Other': 0.8944723618090452, 'Pneumonia': 0.77734375, 'Pneumothorax': 0.8668384879725085, 'Support Devices': 0.9362936293629364}\n"
          ],
          "name": "stdout"
        }
      ]
    },
    {
      "cell_type": "code",
      "metadata": {
        "id": "PxahI1RLsRPI",
        "colab_type": "code",
        "colab": {}
      },
      "source": [
        ""
      ],
      "execution_count": 0,
      "outputs": []
    }
  ]
}